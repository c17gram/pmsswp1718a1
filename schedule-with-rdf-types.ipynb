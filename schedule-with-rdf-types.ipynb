{
 "cells": [
  {
   "cell_type": "markdown",
   "metadata": {
    "deletable": true,
    "editable": true
   },
   "source": [
    "# Μετατρέποντας στη μορφή N-Triples\n",
    "\n",
    "Ολοκληρώνουμε την κατασκευή του ωρολογίου προγράμματος, μετατρέποντας τις τριάδες στο πρότυπο μορφότυπο [N-Triples](http://www.w3.org/TR/n-triples/).\n",
    "\n",
    "## 1. Φορτώστε τις τριάδες\n",
    "\n",
    "Βάλτε σε μια λίστα τις τριάδες από το τελικό csv του προηγούμενου εργαστηρίου. Αυτές θα πρέπει:\n",
    "\n",
    "* Να χρησιμοποιούν URIs με νόμιμους χαρακτήρες\n",
    "* Να έχουν σημειωμένους τους ανώνυμους κόμβους με το πρόθεμα `_:`\n",
    "* Όλα τα URIs να έχουν τη μορφή http URIs\n",
    "\n",
    "    * `http://dilab77.ionio.gr/swp/you/vocab#` για τα κατηγορήματα\n",
    "    * `http://dilab77.ionio.gr/swp/you/resource/` για τα υπόλοιπα URIs\n",
    "    \n",
    "    όπου you πρέπει να είναι το username που έχετε στο JupyterHub.\n",
    "   "
   ]
  },
  {
   "cell_type": "code",
   "execution_count": 2,
   "metadata": {
    "collapsed": false,
    "deletable": true,
    "editable": true
   },
   "outputs": [
    {
     "name": "stdout",
     "output_type": "stream",
     "text": [
      "_:1 <http://www.w3.org/1999/02/22-rdf-syntax-ns#type> <http://dilab77.ionio.gr/swp/c17gram/vocab#Lecture> .\n",
      "<http://dilab77.ionio.gr/swp/c17gram/resource/Κομιανός> <http://www.w3.org/1999/02/22-rdf-syntax-ns#type> <http://dilab77.ionio.gr/swp/c17gram/vocab#Teacher> .\n",
      "<http://dilab77.ionio.gr/swp/c17gram/resource/Ψυχαγωγικό%20Λογισμικό> <http://www.w3.org/1999/02/22-rdf-syntax-ns#type> <http://dilab77.ionio.gr/swp/c17gram/vocab#Course> .\n",
      "_:2 <http://www.w3.org/1999/02/22-rdf-syntax-ns#type> <http://dilab77.ionio.gr/swp/c17gram/vocab#Lecture> .\n",
      "<http://dilab77.ionio.gr/swp/c17gram/resource/Τσόχου> <http://www.w3.org/1999/02/22-rdf-syntax-ns#type> <http://dilab77.ionio.gr/swp/c17gram/vocab#Teacher> .\n",
      "<http://dilab77.ionio.gr/swp/c17gram/resource/Ασφάλεια%20Πληροφοριακών%20Συστημάτων> <http://www.w3.org/1999/02/22-rdf-syntax-ns#type> <http://dilab77.ionio.gr/swp/c17gram/vocab#Course> .\n",
      "_:3 <http://www.w3.org/1999/02/22-rdf-syntax-ns#type> <http://dilab77.ionio.gr/swp/c17gram/vocab#Lecture> .\n",
      "<http://dilab77.ionio.gr/swp/c17gram/resource/Στεφανιδάκης> <http://www.w3.org/1999/02/22-rdf-syntax-ns#type> <http://dilab77.ionio.gr/swp/c17gram/vocab#Teacher> .\n",
      "<http://dilab77.ionio.gr/swp/c17gram/resource/Προγραμματισμός%20Σημασιολογικού%20Ιστού> <http://www.w3.org/1999/02/22-rdf-syntax-ns#type> <http://dilab77.ionio.gr/swp/c17gram/vocab#Course> .\n",
      "_:4 <http://www.w3.org/1999/02/22-rdf-syntax-ns#type> <http://dilab77.ionio.gr/swp/c17gram/vocab#Lecture> .\n",
      "<http://dilab77.ionio.gr/swp/c17gram/resource/Βλάμος> <http://www.w3.org/1999/02/22-rdf-syntax-ns#type> <http://dilab77.ionio.gr/swp/c17gram/vocab#Teacher> .\n",
      "<http://dilab77.ionio.gr/swp/c17gram/resource/Βιοπληροφορική> <http://www.w3.org/1999/02/22-rdf-syntax-ns#type> <http://dilab77.ionio.gr/swp/c17gram/vocab#Course> .\n",
      "_:5 <http://www.w3.org/1999/02/22-rdf-syntax-ns#type> <http://dilab77.ionio.gr/swp/c17gram/vocab#Lecture> .\n",
      "<http://dilab77.ionio.gr/swp/c17gram/resource/Πατέλη> <http://www.w3.org/1999/02/22-rdf-syntax-ns#type> <http://dilab77.ionio.gr/swp/c17gram/vocab#Teacher> .\n",
      "<http://dilab77.ionio.gr/swp/c17gram/resource/Ηλεκτρονική%20Επιχειρηματικότητα> <http://www.w3.org/1999/02/22-rdf-syntax-ns#type> <http://dilab77.ionio.gr/swp/c17gram/vocab#Course> .\n",
      "_:6 <http://www.w3.org/1999/02/22-rdf-syntax-ns#type> <http://dilab77.ionio.gr/swp/c17gram/vocab#Lecture> .\n",
      "<http://dilab77.ionio.gr/swp/c17gram/resource/Αυλωνίτης> <http://www.w3.org/1999/02/22-rdf-syntax-ns#type> <http://dilab77.ionio.gr/swp/c17gram/vocab#Teacher> .\n",
      "<http://dilab77.ionio.gr/swp/c17gram/resource/Προσομοίωση%20Μοντελοποίηση> <http://www.w3.org/1999/02/22-rdf-syntax-ns#type> <http://dilab77.ionio.gr/swp/c17gram/vocab#Course> .\n",
      "_:7 <http://www.w3.org/1999/02/22-rdf-syntax-ns#type> <http://dilab77.ionio.gr/swp/c17gram/vocab#Lecture> .\n",
      "<http://dilab77.ionio.gr/swp/c17gram/resource/Κερμανίδου> <http://www.w3.org/1999/02/22-rdf-syntax-ns#type> <http://dilab77.ionio.gr/swp/c17gram/vocab#Teacher> .\n",
      "<http://dilab77.ionio.gr/swp/c17gram/resource/Τεχνητή%20Νοημοσύνη> <http://www.w3.org/1999/02/22-rdf-syntax-ns#type> <http://dilab77.ionio.gr/swp/c17gram/vocab#Course> .\n"
     ]
    }
   ],
   "source": [
    "# φορτώστε τις τριάδες από το αρχείο csv σε μια λίστα\n",
    "import csv\n",
    "uri = []\n",
    "with open('uri.csv','r',newline='') as ifp:\n",
    "    reader = csv.reader(ifp)\n",
    "    for row in reader:\n",
    "            uri.append(row)\n",
    "triple=[]\n",
    "with open('schedule-data.nt','w') as ofp:\n",
    "    visited=set()\n",
    "    for s,p,o in uri:\n",
    "        if s not in visited:\n",
    "            visited.add(s)\n",
    "            print('{} {} {} .'.format(s,'<http://www.w3.org/1999/02/22-rdf-syntax-ns#type>','<http://dilab77.ionio.gr/swp/c17gram/vocab#Lecture>'))\n",
    "            ofp.write('{} {} {} . \\n'.format(s,'<http://www.w3.org/1999/02/22-rdf-syntax-ns#type>','<http://dilab77.ionio.gr/swp/c17gram/vocab#Lecture>'))\n",
    "        if o.startswith('http:'):\n",
    "            o='<'+o+'>'\n",
    "        p='<'+p+'>'   \n",
    "        if p in ('<http://dilab77.ionio.gr/swp/c17gram/vocab#Έναρξη%20>', '<http://dilab77.ionio.gr/swp/c17gram/vocab#Λήξη>'):\n",
    "            o= '\"0' + o+':00:00'+'\"^^<http://www.w3.org/2001/XMLSchema#time>'\n",
    "        if p=='<http://dilab77.ionio.gr/swp/c17gram/vocab#Ημέρα>':\n",
    "            o='\"'+o+'\"'\n",
    "        triple.append((s,p,o))\n",
    "        if p in ('<http://dilab77.ionio.gr/swp/c17gram/vocab#%20Καθηγητής%20%20>'):\n",
    "            if o not in visited:\n",
    "                visited.add(o)\n",
    "                print('{} {} {} .'.format(o,'<http://www.w3.org/1999/02/22-rdf-syntax-ns#type>','<http://dilab77.ionio.gr/swp/c17gram/vocab#Teacher>'))\n",
    "                ofp.write('{} {} {} . \\n'.format(o,'<http://www.w3.org/1999/02/22-rdf-syntax-ns#type>','<http://dilab77.ionio.gr/swp/c17gram/vocab#Teacher>'))\n",
    "        if p in ('<http://dilab77.ionio.gr/swp/c17gram/vocab#Άιθουσα>'): \n",
    "            if o not in visited:\n",
    "                visited.add(o)\n",
    "                print('{} {} {} .'.format(o,'<http://www.w3.org/1999/02/22-rdf-syntax-ns#type>','<http://dilab77.ionio.gr/swp/c17gram/vocab#Room>'))\n",
    "                ofp.write('{} {} {} . \\n'.format(o,'<http://www.w3.org/1999/02/22-rdf-syntax-ns#type>','<http://dilab77.ionio.gr/swp/p12kast/vocab#Room>'))\n",
    "        if p in ('<http://dilab77.ionio.gr/swp/c17gram/vocab#Μάθημα%20>'):\n",
    "            if o not in visited:\n",
    "                visited.add(o)\n",
    "                print('{} {} {} .'.format(o,'<http://www.w3.org/1999/02/22-rdf-syntax-ns#type>','<http://dilab77.ionio.gr/swp/c17gram/vocab#Course>'))\n",
    "                ofp.write('{} {} {} . \\n'.format(o,'<http://www.w3.org/1999/02/22-rdf-syntax-ns#type>','<http://dilab77.ionio.gr/swp/c17gram/vocab#Course>'))\n",
    "        \n",
    "\n"
   ]
  },
  {
   "cell_type": "markdown",
   "metadata": {
    "deletable": true,
    "editable": true
   },
   "source": [
    "## 2. Καθορίστε τους τύπους δεδομένων\n",
    "\n",
    "Οι απλές τιμές (literals) πρέπει να μετατραπούν σε **έγκυρη σύνταξη N-Triples**. Μέσω της Python\n",
    "\n",
    "* Εκφράστε τις ημέρες και το εξάμηνο σε απλά strings (π.χ. `\"Δευτέρα\"`).\n",
    "* Μετατρέψτε τις ώρες στο τύπο `xsd:time`.\n",
    "* Όλα τα URIs πρέπει να είναι μέσα σε `< >`.\n",
    "\n",
    "Ανατρέξτε στις διαφάνειες της τρέχουσας ενότητας για τη σωστή σύνταξη των προηγούμενων!\n",
    "\n",
    "**Σημείωση:** Ο τύπος `xsd:time` **πρέπει υποχρεωτικά** να έχει τη μορφή (ώρα, λεπτά, δευτερόλεπτα), π.χ. `\"18:00:00\"^^<http://www.w3.org/2001/XMLSchema#time>`."
   ]
  },
  {
   "cell_type": "code",
   "execution_count": 1,
   "metadata": {
    "collapsed": false,
    "deletable": true,
    "editable": true
   },
   "outputs": [],
   "source": [
    "# εφαρμόστε τις μετατροπές φτιάχνοντας μια νέα λίστα τριάδων\n"
   ]
  },
  {
   "cell_type": "markdown",
   "metadata": {
    "deletable": true,
    "editable": true
   },
   "source": [
    "## 3. Παραγωγή αρχείου N-triples\n",
    "\n",
    "Στο τελευταίο αυτό βήμα, αποθηκεύστε το περιεχόμενο των τριάδων σε αρχείο κειμένου σύμφωνα με το πρότυπο N-Triples. Το αρχείο σας θα πρέπει να έχει κατάληξη `.nt` .\n",
    "\n",
    "**Θυμηθείτε**: κάθε γραμμή ενός αρχείου N-Triples περιέχει **ακριβώς μία** τριάδα, με τα μέρη των τριάδων χωρισμένα με κενό (space). Η γραμμή τελειώνει με την **τελεία**."
   ]
  },
  {
   "cell_type": "markdown",
   "metadata": {
    "deletable": true,
    "editable": true
   },
   "source": [
    "#### Υποδειξη: μορφοποίηση strings\n",
    "\n",
    "Μια απλή μορφοποίηση ενός string μπορεί να γίνει ως εξής\n",
    "\n",
    "```python\n",
    "a = 1\n",
    "b = 2\n",
    "print('{}+{}={}'.format(a,b,a+b))\n",
    "```\n",
    "\n",
    "Χρησιμοποιήστε τη `format()` όπως στο παράδειγμα για να φτιάξετε κάθε γραμμή του αρχείου N-Triples. Όταν φτάσετε στο επιθυμητό αποτέλεσμα, αντικαταστήστε την `print()` με τη μέθοδο `write()` του αρχείου εξόδου. Προσοχή: η `write()` δεν προσθέτει αυτόματα χαρακτήρα νέας γραμμής `\\n`, πρέπει να τον βάλετε εσείς!"
   ]
  },
  {
   "cell_type": "code",
   "execution_count": 9,
   "metadata": {
    "collapsed": false,
    "deletable": true,
    "editable": true
   },
   "outputs": [
    {
     "name": "stdout",
     "output_type": "stream",
     "text": [
      "\"Ημέρα \"+Μάθημα=Ημέρα Μάθημα\n"
     ]
    }
   ],
   "source": [
    "# with open('yourfile.nt','w') as ofp:\n",
    "#    for s,p,o in newtriples:\n",
    "#        ofp.write(...)\n",
    "a = 'Ημέρα '\n",
    "b = 'Μάθημα'\n",
    "print('\"{}\"+{}={}'.format(a,b,a+b))\n",
    "\n",
    "\n",
    "#output = '\"' + s + '\"'\n",
    "#print(output)   # θα τυπώσει: \"Δευτέρα\"\n",
    "\n",
    "# εναλλακτικά\n",
    "#output = '\"{}\"'.format(s)\n",
    "#print(output)\n",
    "\n",
    "\n"
   ]
  },
  {
   "cell_type": "code",
   "execution_count": 3,
   "metadata": {
    "collapsed": false
   },
   "outputs": [],
   "source": [
    "with open('testfile.nt','w') as ofp:\n",
    "    for s,p,o in triple:\n",
    "        ofp.write('{} {} {} . \\n'.format(s,p,o))"
   ]
  },
  {
   "cell_type": "markdown",
   "metadata": {
    "deletable": true,
    "editable": true
   },
   "source": [
    "## 4. Είναι το αρχείο σας έγκυρο;\n",
    "\n",
    "Βεβαιωθείτε ότι το αρχείο σας έχει έγκυρη μορφή N-Triples. Αυτό θα το κάνετε μέσω του εργαλείου `riot`. Στο επόμενο κελί εισάγετε το εξής:\n",
    "\n",
    "`!riot --validate yourfile.nt`\n",
    "\n",
    "Περιμένετε μέχρι να ολοκληρωθεί η εκτέλεση (να μην φαίνεται `In [*]`). **Αν το αρχείο σας είναι ΟΚ, δεν θα δείτε τίποτα ως έξοδο!**"
   ]
  },
  {
   "cell_type": "code",
   "execution_count": 4,
   "metadata": {
    "collapsed": false,
    "deletable": true,
    "editable": true
   },
   "outputs": [],
   "source": [
    "# δώστε την εντολή του παραδείγματος\n",
    "!riot --validate schedule-vocab.ttl"
   ]
  },
  {
   "cell_type": "markdown",
   "metadata": {
    "deletable": true,
    "editable": true
   },
   "source": [
    "## 5. Δεδομένα RDF σε άλλες μορφές.\n",
    "\n",
    "Εφόσον έχετε έγκυρο αρχείο N-Triples, μπορείτε να το μετατρέψετε σε διάφορες άλλες μορφές. Το εργαλείο `riot` θα σας βοηθήσει πάλι:\n",
    "\n",
    "Δοκιμάστε την εντολή `!riot --output=FMT yourfile.nt`, βάζοντας στη θέση του `FMT` τα `turtle` και `rdfxml`. Η έξοδος θα φανεί στην οθόνη σας.\n",
    "\n",
    "Αν θέλετε να σώσετε σε νέο αρχείο την καινούργια μορφή, δώστε π.χ.:\n",
    "\n",
    "`!riot --output=turtle yourfile.nt > yourfile.ttl`"
   ]
  },
  {
   "cell_type": "code",
   "execution_count": 5,
   "metadata": {
    "collapsed": false,
    "deletable": true,
    "editable": true
   },
   "outputs": [],
   "source": [
    "!riot --validate schedule-data.nt"
   ]
  },
  {
   "cell_type": "code",
   "execution_count": 6,
   "metadata": {
    "collapsed": true,
    "deletable": true,
    "editable": true
   },
   "outputs": [],
   "source": [
    "!riot --output=turtle testfile.nt > testfile.ttl"
   ]
  },
  {
   "cell_type": "markdown",
   "metadata": {
    "deletable": true,
    "editable": true
   },
   "source": [
    "## Το τέλος του ωρολογίου προγράμματος.\n",
    "\n",
    "**Συγχαρητήρια!!** Μόλις περάσατε από τα ad hoc σημασιολογικά δεδομένα σε πρότυπες μορφές αναπαράστασης. Τώρα πλέον μπορείτε να επεξεργαστείτε τα δεδομένα σας με όλα τα διαθέσιμα εργαλεία του Σημασιολογικού Ιστού!"
   ]
  }
 ],
 "metadata": {
  "kernelspec": {
   "display_name": "Python 3",
   "language": "python",
   "name": "python3"
  },
  "language_info": {
   "codemirror_mode": {
    "name": "ipython",
    "version": 3
   },
   "file_extension": ".py",
   "mimetype": "text/x-python",
   "name": "python",
   "nbconvert_exporter": "python",
   "pygments_lexer": "ipython3",
   "version": "3.4.4"
  }
 },
 "nbformat": 4,
 "nbformat_minor": 0
}
